{
  "cells": [
    {
      "cell_type": "code",
      "execution_count": 1,
      "metadata": {
        "id": "6c8sW-nddmwz"
      },
      "outputs": [],
      "source": [
        "from keras.datasets import cifar10"
      ]
    },
    {
      "cell_type": "code",
      "execution_count": 2,
      "metadata": {
        "colab": {
          "base_uri": "https://localhost:8080/"
        },
        "id": "7dQe4G76d848",
        "outputId": "90283b08-aa8f-4fd2-bb0a-6451ec2fb247"
      },
      "outputs": [
        {
          "name": "stdout",
          "output_type": "stream",
          "text": [
            "Downloading data from https://www.cs.toronto.edu/~kriz/cifar-10-python.tar.gz\n",
            "170498071/170498071 [==============================] - 2s 0us/step\n"
          ]
        }
      ],
      "source": [
        "(X_train_full,y_train_full), (x_test_full,y_test_full) =  cifar10.load_data()"
      ]
    },
    {
      "cell_type": "code",
      "execution_count": 3,
      "metadata": {
        "colab": {
          "base_uri": "https://localhost:8080/"
        },
        "id": "-H30pRj-eVC3",
        "outputId": "e784d998-6020-4dd8-d9e7-b3c467b70daa"
      },
      "outputs": [
        {
          "data": {
            "text/plain": [
              "(50000, 32, 32, 3)"
            ]
          },
          "execution_count": 3,
          "metadata": {},
          "output_type": "execute_result"
        }
      ],
      "source": [
        "X_train_full.shape"
      ]
    },
    {
      "cell_type": "code",
      "execution_count": 4,
      "metadata": {
        "colab": {
          "base_uri": "https://localhost:8080/"
        },
        "id": "ts8ILReWekvv",
        "outputId": "6facacde-5524-4363-f31a-2c429059d950"
      },
      "outputs": [
        {
          "data": {
            "text/plain": [
              "array([[3],\n",
              "       [8],\n",
              "       [8],\n",
              "       ...,\n",
              "       [5],\n",
              "       [1],\n",
              "       [7]], dtype=uint8)"
            ]
          },
          "execution_count": 4,
          "metadata": {},
          "output_type": "execute_result"
        }
      ],
      "source": [
        "y_test_full"
      ]
    },
    {
      "cell_type": "code",
      "execution_count": 5,
      "metadata": {
        "id": "eX9-ec0Oep7g"
      },
      "outputs": [],
      "source": [
        "train_examples = 5000"
      ]
    },
    {
      "cell_type": "code",
      "execution_count": 6,
      "metadata": {
        "id": "qC8YMVLUfBb7"
      },
      "outputs": [],
      "source": [
        "x_train = X_train_full[:train_examples]"
      ]
    },
    {
      "cell_type": "code",
      "execution_count": 7,
      "metadata": {
        "colab": {
          "base_uri": "https://localhost:8080/"
        },
        "id": "IwqlqMV9fJTd",
        "outputId": "62cccb78-16f0-419c-e542-1a2382958374"
      },
      "outputs": [
        {
          "data": {
            "text/plain": [
              "(5000, 32, 32, 3)"
            ]
          },
          "execution_count": 7,
          "metadata": {},
          "output_type": "execute_result"
        }
      ],
      "source": [
        "x_train.shape"
      ]
    },
    {
      "cell_type": "code",
      "execution_count": 8,
      "metadata": {
        "id": "ZhD5OELvfLEq"
      },
      "outputs": [],
      "source": [
        "y_train = y_train_full[:train_examples]"
      ]
    },
    {
      "cell_type": "code",
      "execution_count": 9,
      "metadata": {
        "colab": {
          "base_uri": "https://localhost:8080/"
        },
        "id": "mZD6dK08fTpf",
        "outputId": "7a618c9e-15bb-40b9-c586-0d5f2d7ce745"
      },
      "outputs": [
        {
          "data": {
            "text/plain": [
              "(5000, 1)"
            ]
          },
          "execution_count": 9,
          "metadata": {},
          "output_type": "execute_result"
        }
      ],
      "source": [
        "y_train.shape"
      ]
    },
    {
      "cell_type": "code",
      "execution_count": 10,
      "metadata": {
        "colab": {
          "base_uri": "https://localhost:8080/"
        },
        "id": "0Gz4KWmZfVUR",
        "outputId": "fdb7bc81-3e90-44d7-b65f-c9d252816775"
      },
      "outputs": [
        {
          "data": {
            "text/plain": [
              "(10000, 32, 32, 3)"
            ]
          },
          "execution_count": 10,
          "metadata": {},
          "output_type": "execute_result"
        }
      ],
      "source": [
        "x_test_full.shape"
      ]
    },
    {
      "cell_type": "code",
      "execution_count": 11,
      "metadata": {
        "id": "go2Qss75fYMF"
      },
      "outputs": [],
      "source": [
        "test_examples = 1000"
      ]
    },
    {
      "cell_type": "code",
      "execution_count": 12,
      "metadata": {
        "id": "2v5IA3RKflD7"
      },
      "outputs": [],
      "source": [
        "x_test = x_test_full[:test_examples]"
      ]
    },
    {
      "cell_type": "code",
      "execution_count": 13,
      "metadata": {
        "colab": {
          "base_uri": "https://localhost:8080/"
        },
        "id": "aLJHfqMNfo2s",
        "outputId": "6e750361-a102-4fa7-f6e4-4bdf0a28a93f"
      },
      "outputs": [
        {
          "data": {
            "text/plain": [
              "(1000, 32, 32, 3)"
            ]
          },
          "execution_count": 13,
          "metadata": {},
          "output_type": "execute_result"
        }
      ],
      "source": [
        "x_test.shape\n"
      ]
    },
    {
      "cell_type": "code",
      "execution_count": 14,
      "metadata": {
        "id": "ZF-7W1dvf18c"
      },
      "outputs": [],
      "source": [
        "y_test = y_test_full[:test_examples]"
      ]
    },
    {
      "cell_type": "code",
      "execution_count": 15,
      "metadata": {
        "id": "yicHz1B0f30r"
      },
      "outputs": [],
      "source": [
        "from tensorflow.keras.preprocessing.image import img_to_array,array_to_img\n",
        "from PIL import Image\n",
        "import numpy as np\n",
        "def resize_images(images): #inception model accepts data as (75 * 75) but our data is (32 * 32) therefore we are resizing the data\n",
        "  resized_images = []\n",
        "  for image in images:\n",
        "    image = img_to_array(image)\n",
        "    image = Image.fromarray(image.astype('uint8'))\n",
        "    image = image.resize((75, 75))\n",
        "    image = img_to_array(image)\n",
        "    resized_images.append(image)\n",
        "  return np.array(resized_images)"
      ]
    },
    {
      "cell_type": "code",
      "execution_count": 16,
      "metadata": {
        "id": "yoMyxM-NhDZN"
      },
      "outputs": [],
      "source": [
        "x_train = resize_images(x_train)"
      ]
    },
    {
      "cell_type": "code",
      "execution_count": 17,
      "metadata": {
        "colab": {
          "base_uri": "https://localhost:8080/"
        },
        "id": "63pTVXKFhcVI",
        "outputId": "41e89fd8-9688-4b60-aacc-11c59c814ac6"
      },
      "outputs": [
        {
          "data": {
            "text/plain": [
              "(5000, 75, 75, 3)"
            ]
          },
          "execution_count": 17,
          "metadata": {},
          "output_type": "execute_result"
        }
      ],
      "source": [
        "x_train.shape"
      ]
    },
    {
      "cell_type": "code",
      "execution_count": 18,
      "metadata": {
        "id": "tEmOpFQchebn"
      },
      "outputs": [],
      "source": [
        "x_test = resize_images(x_test)"
      ]
    },
    {
      "cell_type": "code",
      "execution_count": 19,
      "metadata": {
        "colab": {
          "base_uri": "https://localhost:8080/"
        },
        "id": "XE3U4nU-hvCJ",
        "outputId": "0f45dbd8-742a-4792-a523-de5a3a8163ac"
      },
      "outputs": [
        {
          "data": {
            "text/plain": [
              "(1000, 75, 75, 3)"
            ]
          },
          "execution_count": 19,
          "metadata": {},
          "output_type": "execute_result"
        }
      ],
      "source": [
        "x_test.shape"
      ]
    },
    {
      "cell_type": "code",
      "execution_count": 20,
      "metadata": {
        "id": "OaUcx2wOhv-_"
      },
      "outputs": [],
      "source": [
        "x_train = x_train.astype('float32') / 255\n",
        "x_test = x_test.astype('float32') / 255"
      ]
    },
    {
      "cell_type": "code",
      "execution_count": 21,
      "metadata": {
        "colab": {
          "base_uri": "https://localhost:8080/"
        },
        "id": "MJPBXEZYh9XP",
        "outputId": "a5caf94b-ec4f-48a6-c161-bfa085dc1e80"
      },
      "outputs": [
        {
          "data": {
            "text/plain": [
              "(5000, 1)"
            ]
          },
          "execution_count": 21,
          "metadata": {},
          "output_type": "execute_result"
        }
      ],
      "source": [
        "y_train.shape"
      ]
    },
    {
      "cell_type": "code",
      "execution_count": 22,
      "metadata": {
        "colab": {
          "base_uri": "https://localhost:8080/"
        },
        "id": "qebVsCucikgc",
        "outputId": "4df04705-3a14-4fa7-ff50-0c2adbeba3e5"
      },
      "outputs": [
        {
          "data": {
            "text/plain": [
              "array([9], dtype=uint8)"
            ]
          },
          "execution_count": 22,
          "metadata": {},
          "output_type": "execute_result"
        }
      ],
      "source": [
        "y_train[1]"
      ]
    },
    {
      "cell_type": "code",
      "execution_count": 23,
      "metadata": {
        "id": "3XjTwYsViHA1"
      },
      "outputs": [],
      "source": [
        "y_train_labels = set(y_train.ravel())"
      ]
    },
    {
      "cell_type": "code",
      "execution_count": 24,
      "metadata": {
        "colab": {
          "base_uri": "https://localhost:8080/"
        },
        "id": "7_bU0--Di8WP",
        "outputId": "4aa18ac0-9746-4c0e-fe06-54b50252a9c0"
      },
      "outputs": [
        {
          "data": {
            "text/plain": [
              "{0, 1, 2, 3, 4, 5, 6, 7, 8, 9}"
            ]
          },
          "execution_count": 24,
          "metadata": {},
          "output_type": "execute_result"
        }
      ],
      "source": [
        "y_train_labels"
      ]
    },
    {
      "cell_type": "code",
      "execution_count": 25,
      "metadata": {
        "id": "8lKkLPcJjT1-"
      },
      "outputs": [],
      "source": [
        "y_test_labels = set(y_test.ravel())"
      ]
    },
    {
      "cell_type": "code",
      "execution_count": 26,
      "metadata": {
        "colab": {
          "base_uri": "https://localhost:8080/"
        },
        "id": "JtNsIFb5kB_L",
        "outputId": "2acf6382-cd87-497f-be9c-dc75d33fbf05"
      },
      "outputs": [
        {
          "data": {
            "text/plain": [
              "{0, 1, 2, 3, 4, 5, 6, 7, 8, 9}"
            ]
          },
          "execution_count": 26,
          "metadata": {},
          "output_type": "execute_result"
        }
      ],
      "source": [
        "y_test_labels"
      ]
    },
    {
      "cell_type": "code",
      "execution_count": 27,
      "metadata": {
        "id": "MsW7mKl_kDRT"
      },
      "outputs": [],
      "source": [
        "from tensorflow.keras.utils import to_categorical\n",
        "y_test = to_categorical(y_test,num_classes =10)\n",
        "y_train = to_categorical(y_train,num_classes =10)"
      ]
    },
    {
      "cell_type": "code",
      "execution_count": 28,
      "metadata": {
        "colab": {
          "base_uri": "https://localhost:8080/"
        },
        "id": "0POidCknkH6U",
        "outputId": "098dc0a7-c699-4e48-88fc-29524b1bda8b"
      },
      "outputs": [
        {
          "data": {
            "text/plain": [
              "(1000, 10)"
            ]
          },
          "execution_count": 28,
          "metadata": {},
          "output_type": "execute_result"
        }
      ],
      "source": [
        "y_test.shape"
      ]
    },
    {
      "cell_type": "code",
      "execution_count": 29,
      "metadata": {
        "id": "kGTxILOXlCWm"
      },
      "outputs": [],
      "source": [
        "from keras.applications.inception_v3 import InceptionV3\n"
      ]
    },
    {
      "cell_type": "code",
      "execution_count": 30,
      "metadata": {
        "colab": {
          "base_uri": "https://localhost:8080/"
        },
        "id": "n7Fsr9ijlQeh",
        "outputId": "e342959d-78cf-4a3a-872a-9c84921aea82"
      },
      "outputs": [
        {
          "name": "stdout",
          "output_type": "stream",
          "text": [
            "Downloading data from https://storage.googleapis.com/tensorflow/keras-applications/inception_v3/inception_v3_weights_tf_dim_ordering_tf_kernels_notop.h5\n",
            "87910968/87910968 [==============================] - 1s 0us/step\n"
          ]
        }
      ],
      "source": [
        "base_model = InceptionV3(weights = 'imagenet',include_top=False, input_shape=(75,75,3))"
      ]
    },
    {
      "cell_type": "code",
      "execution_count": 31,
      "metadata": {
        "id": "C04JPRBBlise"
      },
      "outputs": [],
      "source": [
        "for layer in base_model.layers:\n",
        "  layer.trainable = False #i am freezing the base layers "
      ]
    },
    {
      "cell_type": "code",
      "execution_count": 32,
      "metadata": {
        "id": "wk833BZYmSGs"
      },
      "outputs": [],
      "source": [
        "from tensorflow.keras.models import Sequential"
      ]
    },
    {
      "cell_type": "code",
      "execution_count": 33,
      "metadata": {
        "id": "RvJqcTeHmZ2H"
      },
      "outputs": [],
      "source": [
        "model = Sequential()"
      ]
    },
    {
      "cell_type": "code",
      "execution_count": 34,
      "metadata": {
        "id": "fYUPV8uvme_Q"
      },
      "outputs": [],
      "source": [
        "model.add(base_model)"
      ]
    },
    {
      "cell_type": "code",
      "execution_count": 35,
      "metadata": {
        "id": "yH-h3F_NmwG2"
      },
      "outputs": [],
      "source": [
        "from tensorflow.keras.layers import Flatten,Dense, Dropout"
      ]
    },
    {
      "cell_type": "code",
      "execution_count": 36,
      "metadata": {
        "id": "4dmYZpWNmrvd"
      },
      "outputs": [],
      "source": [
        "model.add(Flatten())"
      ]
    },
    {
      "cell_type": "code",
      "execution_count": 37,
      "metadata": {
        "id": "KtfiTBpEm76s"
      },
      "outputs": [],
      "source": [
        "model.add(Dense(256, activation='relu'))"
      ]
    },
    {
      "cell_type": "code",
      "execution_count": 38,
      "metadata": {
        "id": "0Up19I5WnCql"
      },
      "outputs": [],
      "source": [
        "model.add(Dropout(0.5))\n"
      ]
    },
    {
      "cell_type": "code",
      "execution_count": 39,
      "metadata": {
        "id": "2a38Ay_DnQus"
      },
      "outputs": [],
      "source": [
        "model.add(Dense(10, activation = 'softmax'))"
      ]
    },
    {
      "cell_type": "code",
      "execution_count": 40,
      "metadata": {
        "id": "lIjnvquMna0a"
      },
      "outputs": [],
      "source": [
        "from tensorflow.keras.optimizers import Adam\n"
      ]
    },
    {
      "cell_type": "code",
      "execution_count": 41,
      "metadata": {
        "colab": {
          "base_uri": "https://localhost:8080/"
        },
        "id": "MSzQ5SXhnkpa",
        "outputId": "790c2d87-d154-4ef4-9e9e-a3ac80fdec98"
      },
      "outputs": [
        {
          "name": "stderr",
          "output_type": "stream",
          "text": [
            "WARNING:absl:`lr` is deprecated, please use `learning_rate` instead, or use the legacy optimizer, e.g.,tf.keras.optimizers.legacy.Adam.\n"
          ]
        }
      ],
      "source": [
        "adam = Adam(lr = 0.0001)"
      ]
    },
    {
      "cell_type": "code",
      "execution_count": 42,
      "metadata": {
        "id": "fLbRM7H4n44l"
      },
      "outputs": [],
      "source": [
        "from keras.backend import categorical_crossentropy\n",
        "model.compile(optimizer = adam, loss = 'categorical_crossentropy', metrics = ['accuracy'])"
      ]
    },
    {
      "cell_type": "code",
      "execution_count": 43,
      "metadata": {
        "id": "E61spLhtoLi6"
      },
      "outputs": [],
      "source": [
        "batch_size = 32\n",
        "epochs = 100\n"
      ]
    },
    {
      "cell_type": "code",
      "execution_count": 44,
      "metadata": {
        "colab": {
          "base_uri": "https://localhost:8080/"
        },
        "id": "0O-6MeMToRnQ",
        "outputId": "119010e5-80fb-4131-c92a-59759a10efbd"
      },
      "outputs": [
        {
          "name": "stdout",
          "output_type": "stream",
          "text": [
            "Epoch 1/100\n",
            "157/157 [==============================] - 19s 34ms/step - loss: 1.7999 - accuracy: 0.3854 - val_loss: 1.3453 - val_accuracy: 0.5360\n",
            "Epoch 2/100\n",
            "157/157 [==============================] - 4s 26ms/step - loss: 1.2496 - accuracy: 0.5704 - val_loss: 1.2680 - val_accuracy: 0.5760\n",
            "Epoch 3/100\n",
            "157/157 [==============================] - 3s 22ms/step - loss: 1.0439 - accuracy: 0.6392 - val_loss: 1.2210 - val_accuracy: 0.5920\n",
            "Epoch 4/100\n",
            "157/157 [==============================] - 3s 21ms/step - loss: 0.8992 - accuracy: 0.6942 - val_loss: 1.2160 - val_accuracy: 0.5910\n",
            "Epoch 5/100\n",
            "157/157 [==============================] - 3s 21ms/step - loss: 0.7572 - accuracy: 0.7348 - val_loss: 1.2291 - val_accuracy: 0.5930\n",
            "Epoch 6/100\n",
            "157/157 [==============================] - 4s 24ms/step - loss: 0.6593 - accuracy: 0.7730 - val_loss: 1.2611 - val_accuracy: 0.5790\n",
            "Epoch 7/100\n",
            "157/157 [==============================] - 3s 20ms/step - loss: 0.5651 - accuracy: 0.8120 - val_loss: 1.2907 - val_accuracy: 0.5940\n",
            "Epoch 8/100\n",
            "157/157 [==============================] - 3s 21ms/step - loss: 0.4829 - accuracy: 0.8372 - val_loss: 1.3133 - val_accuracy: 0.5890\n",
            "Epoch 9/100\n",
            "157/157 [==============================] - 4s 23ms/step - loss: 0.4150 - accuracy: 0.8628 - val_loss: 1.3448 - val_accuracy: 0.5940\n",
            "Epoch 10/100\n",
            "157/157 [==============================] - 4s 23ms/step - loss: 0.3706 - accuracy: 0.8800 - val_loss: 1.4350 - val_accuracy: 0.5930\n",
            "Epoch 11/100\n",
            "157/157 [==============================] - 3s 20ms/step - loss: 0.3202 - accuracy: 0.8990 - val_loss: 1.4413 - val_accuracy: 0.5790\n",
            "Epoch 12/100\n",
            "157/157 [==============================] - 3s 21ms/step - loss: 0.2768 - accuracy: 0.9150 - val_loss: 1.5009 - val_accuracy: 0.5800\n",
            "Epoch 13/100\n",
            "157/157 [==============================] - 4s 25ms/step - loss: 0.2611 - accuracy: 0.9216 - val_loss: 1.5077 - val_accuracy: 0.5940\n",
            "Epoch 14/100\n",
            "157/157 [==============================] - 3s 21ms/step - loss: 0.2481 - accuracy: 0.9230 - val_loss: 1.5852 - val_accuracy: 0.5890\n",
            "Epoch 15/100\n",
            "157/157 [==============================] - 3s 21ms/step - loss: 0.2102 - accuracy: 0.9334 - val_loss: 1.5734 - val_accuracy: 0.5940\n",
            "Epoch 16/100\n",
            "157/157 [==============================] - 4s 23ms/step - loss: 0.1878 - accuracy: 0.9446 - val_loss: 1.6775 - val_accuracy: 0.5830\n",
            "Epoch 17/100\n",
            "157/157 [==============================] - 4s 23ms/step - loss: 0.1710 - accuracy: 0.9468 - val_loss: 1.7006 - val_accuracy: 0.5930\n",
            "Epoch 18/100\n",
            "157/157 [==============================] - 3s 20ms/step - loss: 0.1860 - accuracy: 0.9444 - val_loss: 1.7170 - val_accuracy: 0.5780\n",
            "Epoch 19/100\n",
            "157/157 [==============================] - 3s 22ms/step - loss: 0.1583 - accuracy: 0.9512 - val_loss: 1.7598 - val_accuracy: 0.5730\n",
            "Epoch 20/100\n",
            "157/157 [==============================] - 4s 28ms/step - loss: 0.1541 - accuracy: 0.9548 - val_loss: 1.7727 - val_accuracy: 0.5780\n",
            "Epoch 21/100\n",
            "157/157 [==============================] - 3s 20ms/step - loss: 0.1577 - accuracy: 0.9502 - val_loss: 1.7684 - val_accuracy: 0.5810\n",
            "Epoch 22/100\n",
            "157/157 [==============================] - 3s 22ms/step - loss: 0.1217 - accuracy: 0.9628 - val_loss: 1.7858 - val_accuracy: 0.6010\n",
            "Epoch 23/100\n",
            "157/157 [==============================] - 4s 28ms/step - loss: 0.1249 - accuracy: 0.9638 - val_loss: 1.8912 - val_accuracy: 0.5860\n",
            "Epoch 24/100\n",
            "157/157 [==============================] - 3s 21ms/step - loss: 0.1174 - accuracy: 0.9628 - val_loss: 1.8472 - val_accuracy: 0.5860\n",
            "Epoch 25/100\n",
            "157/157 [==============================] - 3s 20ms/step - loss: 0.1119 - accuracy: 0.9648 - val_loss: 1.9357 - val_accuracy: 0.5860\n",
            "Epoch 26/100\n",
            "157/157 [==============================] - 3s 21ms/step - loss: 0.1197 - accuracy: 0.9622 - val_loss: 1.9699 - val_accuracy: 0.5950\n",
            "Epoch 27/100\n",
            "157/157 [==============================] - 4s 25ms/step - loss: 0.1157 - accuracy: 0.9640 - val_loss: 1.9482 - val_accuracy: 0.5840\n",
            "Epoch 28/100\n",
            "157/157 [==============================] - 3s 22ms/step - loss: 0.1072 - accuracy: 0.9664 - val_loss: 2.0390 - val_accuracy: 0.5890\n",
            "Epoch 29/100\n",
            "157/157 [==============================] - 4s 22ms/step - loss: 0.1066 - accuracy: 0.9664 - val_loss: 2.0501 - val_accuracy: 0.5830\n",
            "Epoch 30/100\n",
            "157/157 [==============================] - 4s 25ms/step - loss: 0.1066 - accuracy: 0.9692 - val_loss: 2.1441 - val_accuracy: 0.5790\n",
            "Epoch 31/100\n",
            "157/157 [==============================] - 3s 21ms/step - loss: 0.1004 - accuracy: 0.9698 - val_loss: 2.0833 - val_accuracy: 0.5760\n",
            "Epoch 32/100\n",
            "157/157 [==============================] - 3s 22ms/step - loss: 0.1035 - accuracy: 0.9692 - val_loss: 2.1742 - val_accuracy: 0.5870\n",
            "Epoch 33/100\n",
            "157/157 [==============================] - 4s 23ms/step - loss: 0.0837 - accuracy: 0.9758 - val_loss: 2.0775 - val_accuracy: 0.5850\n",
            "Epoch 34/100\n",
            "157/157 [==============================] - 4s 24ms/step - loss: 0.0833 - accuracy: 0.9740 - val_loss: 2.1520 - val_accuracy: 0.5850\n",
            "Epoch 35/100\n",
            "157/157 [==============================] - 3s 22ms/step - loss: 0.0949 - accuracy: 0.9700 - val_loss: 2.1403 - val_accuracy: 0.5700\n",
            "Epoch 36/100\n",
            "157/157 [==============================] - 3s 22ms/step - loss: 0.1141 - accuracy: 0.9644 - val_loss: 2.0886 - val_accuracy: 0.5640\n",
            "Epoch 37/100\n",
            "157/157 [==============================] - 4s 25ms/step - loss: 0.0931 - accuracy: 0.9680 - val_loss: 2.1671 - val_accuracy: 0.5840\n",
            "Epoch 38/100\n",
            "157/157 [==============================] - 3s 22ms/step - loss: 0.0949 - accuracy: 0.9682 - val_loss: 2.2640 - val_accuracy: 0.5610\n",
            "Epoch 39/100\n",
            "157/157 [==============================] - 4s 22ms/step - loss: 0.0911 - accuracy: 0.9688 - val_loss: 2.2768 - val_accuracy: 0.5500\n",
            "Epoch 40/100\n",
            "157/157 [==============================] - 4s 23ms/step - loss: 0.0707 - accuracy: 0.9778 - val_loss: 2.3771 - val_accuracy: 0.5760\n",
            "Epoch 41/100\n",
            "157/157 [==============================] - 3s 22ms/step - loss: 0.0891 - accuracy: 0.9678 - val_loss: 2.4998 - val_accuracy: 0.5720\n",
            "Epoch 42/100\n",
            "157/157 [==============================] - 3s 20ms/step - loss: 0.0975 - accuracy: 0.9690 - val_loss: 2.3884 - val_accuracy: 0.5710\n",
            "Epoch 43/100\n",
            "157/157 [==============================] - 3s 21ms/step - loss: 0.0941 - accuracy: 0.9722 - val_loss: 2.3036 - val_accuracy: 0.5750\n",
            "Epoch 44/100\n",
            "157/157 [==============================] - 4s 25ms/step - loss: 0.0855 - accuracy: 0.9724 - val_loss: 2.4888 - val_accuracy: 0.5640\n",
            "Epoch 45/100\n",
            "157/157 [==============================] - 3s 21ms/step - loss: 0.0792 - accuracy: 0.9734 - val_loss: 2.3134 - val_accuracy: 0.5870\n",
            "Epoch 46/100\n",
            "157/157 [==============================] - 3s 22ms/step - loss: 0.0726 - accuracy: 0.9774 - val_loss: 2.3445 - val_accuracy: 0.5830\n",
            "Epoch 47/100\n",
            "157/157 [==============================] - 4s 23ms/step - loss: 0.0714 - accuracy: 0.9756 - val_loss: 2.6120 - val_accuracy: 0.5700\n",
            "Epoch 48/100\n",
            "157/157 [==============================] - 3s 22ms/step - loss: 0.0716 - accuracy: 0.9756 - val_loss: 2.4645 - val_accuracy: 0.5700\n",
            "Epoch 49/100\n",
            "157/157 [==============================] - 3s 21ms/step - loss: 0.0637 - accuracy: 0.9804 - val_loss: 2.4930 - val_accuracy: 0.5780\n",
            "Epoch 50/100\n",
            "157/157 [==============================] - 3s 21ms/step - loss: 0.0601 - accuracy: 0.9800 - val_loss: 2.5174 - val_accuracy: 0.5650\n",
            "Epoch 51/100\n",
            "157/157 [==============================] - 4s 26ms/step - loss: 0.0604 - accuracy: 0.9812 - val_loss: 2.5468 - val_accuracy: 0.5660\n",
            "Epoch 52/100\n",
            "157/157 [==============================] - 3s 21ms/step - loss: 0.0713 - accuracy: 0.9760 - val_loss: 2.5488 - val_accuracy: 0.5790\n",
            "Epoch 53/100\n",
            "157/157 [==============================] - 3s 21ms/step - loss: 0.0877 - accuracy: 0.9726 - val_loss: 2.4616 - val_accuracy: 0.5720\n",
            "Epoch 54/100\n",
            "157/157 [==============================] - 4s 27ms/step - loss: 0.0578 - accuracy: 0.9816 - val_loss: 2.6150 - val_accuracy: 0.5770\n",
            "Epoch 55/100\n",
            "157/157 [==============================] - 3s 21ms/step - loss: 0.0810 - accuracy: 0.9724 - val_loss: 2.6385 - val_accuracy: 0.5690\n",
            "Epoch 56/100\n",
            "157/157 [==============================] - 3s 21ms/step - loss: 0.0556 - accuracy: 0.9814 - val_loss: 2.7043 - val_accuracy: 0.5900\n",
            "Epoch 57/100\n",
            "157/157 [==============================] - 3s 22ms/step - loss: 0.0620 - accuracy: 0.9810 - val_loss: 2.6213 - val_accuracy: 0.5890\n",
            "Epoch 58/100\n",
            "157/157 [==============================] - 4s 25ms/step - loss: 0.0707 - accuracy: 0.9768 - val_loss: 2.6531 - val_accuracy: 0.5730\n",
            "Epoch 59/100\n",
            "157/157 [==============================] - 3s 22ms/step - loss: 0.0659 - accuracy: 0.9790 - val_loss: 2.6618 - val_accuracy: 0.5740\n",
            "Epoch 60/100\n",
            "157/157 [==============================] - 3s 21ms/step - loss: 0.0817 - accuracy: 0.9746 - val_loss: 2.7132 - val_accuracy: 0.5710\n",
            "Epoch 61/100\n",
            "157/157 [==============================] - 4s 25ms/step - loss: 0.0638 - accuracy: 0.9808 - val_loss: 2.7515 - val_accuracy: 0.5750\n",
            "Epoch 62/100\n",
            "157/157 [==============================] - 3s 22ms/step - loss: 0.0857 - accuracy: 0.9750 - val_loss: 2.7939 - val_accuracy: 0.5630\n",
            "Epoch 63/100\n",
            "157/157 [==============================] - 3s 22ms/step - loss: 0.0896 - accuracy: 0.9726 - val_loss: 2.7567 - val_accuracy: 0.5670\n",
            "Epoch 64/100\n",
            "157/157 [==============================] - 4s 23ms/step - loss: 0.0558 - accuracy: 0.9804 - val_loss: 2.8918 - val_accuracy: 0.5780\n",
            "Epoch 65/100\n",
            "157/157 [==============================] - 4s 24ms/step - loss: 0.0670 - accuracy: 0.9804 - val_loss: 2.9157 - val_accuracy: 0.5710\n",
            "Epoch 66/100\n",
            "157/157 [==============================] - 3s 21ms/step - loss: 0.0841 - accuracy: 0.9730 - val_loss: 2.9103 - val_accuracy: 0.5730\n",
            "Epoch 67/100\n",
            "157/157 [==============================] - 3s 21ms/step - loss: 0.0810 - accuracy: 0.9750 - val_loss: 2.8420 - val_accuracy: 0.5740\n",
            "Epoch 68/100\n",
            "157/157 [==============================] - 4s 26ms/step - loss: 0.0925 - accuracy: 0.9736 - val_loss: 2.7974 - val_accuracy: 0.5710\n",
            "Epoch 69/100\n",
            "157/157 [==============================] - 3s 21ms/step - loss: 0.0795 - accuracy: 0.9744 - val_loss: 2.7063 - val_accuracy: 0.5810\n",
            "Epoch 70/100\n",
            "157/157 [==============================] - 3s 22ms/step - loss: 0.0534 - accuracy: 0.9842 - val_loss: 2.8774 - val_accuracy: 0.5730\n",
            "Epoch 71/100\n",
            "157/157 [==============================] - 3s 22ms/step - loss: 0.0452 - accuracy: 0.9846 - val_loss: 2.9565 - val_accuracy: 0.5650\n",
            "Epoch 72/100\n",
            "157/157 [==============================] - 4s 24ms/step - loss: 0.0510 - accuracy: 0.9804 - val_loss: 3.0002 - val_accuracy: 0.5820\n",
            "Epoch 73/100\n",
            "157/157 [==============================] - 3s 21ms/step - loss: 0.0661 - accuracy: 0.9770 - val_loss: 2.9443 - val_accuracy: 0.5560\n",
            "Epoch 74/100\n",
            "157/157 [==============================] - 3s 22ms/step - loss: 0.0759 - accuracy: 0.9766 - val_loss: 3.0216 - val_accuracy: 0.5670\n",
            "Epoch 75/100\n",
            "157/157 [==============================] - 4s 25ms/step - loss: 0.0482 - accuracy: 0.9838 - val_loss: 2.9746 - val_accuracy: 0.5620\n",
            "Epoch 76/100\n",
            "157/157 [==============================] - 3s 21ms/step - loss: 0.0478 - accuracy: 0.9852 - val_loss: 2.9923 - val_accuracy: 0.5700\n",
            "Epoch 77/100\n",
            "157/157 [==============================] - 3s 22ms/step - loss: 0.0630 - accuracy: 0.9808 - val_loss: 3.0489 - val_accuracy: 0.5720\n",
            "Epoch 78/100\n",
            "157/157 [==============================] - 4s 28ms/step - loss: 0.0633 - accuracy: 0.9806 - val_loss: 3.0040 - val_accuracy: 0.5720\n",
            "Epoch 79/100\n",
            "157/157 [==============================] - 3s 21ms/step - loss: 0.0409 - accuracy: 0.9876 - val_loss: 3.0023 - val_accuracy: 0.5800\n",
            "Epoch 80/100\n",
            "157/157 [==============================] - 3s 21ms/step - loss: 0.0442 - accuracy: 0.9842 - val_loss: 3.1206 - val_accuracy: 0.5670\n",
            "Epoch 81/100\n",
            "157/157 [==============================] - 3s 22ms/step - loss: 0.0481 - accuracy: 0.9848 - val_loss: 3.3108 - val_accuracy: 0.5840\n",
            "Epoch 82/100\n",
            "157/157 [==============================] - 4s 25ms/step - loss: 0.0556 - accuracy: 0.9820 - val_loss: 3.3157 - val_accuracy: 0.5780\n",
            "Epoch 83/100\n",
            "157/157 [==============================] - 3s 22ms/step - loss: 0.0569 - accuracy: 0.9802 - val_loss: 3.1909 - val_accuracy: 0.5820\n",
            "Epoch 84/100\n",
            "157/157 [==============================] - 3s 22ms/step - loss: 0.0537 - accuracy: 0.9820 - val_loss: 3.2249 - val_accuracy: 0.5640\n",
            "Epoch 85/100\n",
            "157/157 [==============================] - 4s 24ms/step - loss: 0.0524 - accuracy: 0.9826 - val_loss: 3.2165 - val_accuracy: 0.5730\n",
            "Epoch 86/100\n",
            "157/157 [==============================] - 3s 21ms/step - loss: 0.0808 - accuracy: 0.9760 - val_loss: 3.3179 - val_accuracy: 0.5740\n",
            "Epoch 87/100\n",
            "157/157 [==============================] - 3s 21ms/step - loss: 0.0687 - accuracy: 0.9772 - val_loss: 3.1776 - val_accuracy: 0.5700\n",
            "Epoch 88/100\n",
            "157/157 [==============================] - 3s 21ms/step - loss: 0.0531 - accuracy: 0.9832 - val_loss: 3.2841 - val_accuracy: 0.5680\n",
            "Epoch 89/100\n",
            "157/157 [==============================] - 4s 25ms/step - loss: 0.0718 - accuracy: 0.9804 - val_loss: 3.2916 - val_accuracy: 0.5610\n",
            "Epoch 90/100\n",
            "157/157 [==============================] - 3s 21ms/step - loss: 0.0446 - accuracy: 0.9856 - val_loss: 3.2210 - val_accuracy: 0.5740\n",
            "Epoch 91/100\n",
            "157/157 [==============================] - 3s 20ms/step - loss: 0.0439 - accuracy: 0.9866 - val_loss: 3.1608 - val_accuracy: 0.5750\n",
            "Epoch 92/100\n",
            "157/157 [==============================] - 4s 28ms/step - loss: 0.0494 - accuracy: 0.9854 - val_loss: 3.2485 - val_accuracy: 0.5760\n",
            "Epoch 93/100\n",
            "157/157 [==============================] - 3s 21ms/step - loss: 0.0592 - accuracy: 0.9800 - val_loss: 3.2030 - val_accuracy: 0.5780\n",
            "Epoch 94/100\n",
            "157/157 [==============================] - 3s 21ms/step - loss: 0.0800 - accuracy: 0.9756 - val_loss: 3.1660 - val_accuracy: 0.5760\n",
            "Epoch 95/100\n",
            "157/157 [==============================] - 3s 21ms/step - loss: 0.0441 - accuracy: 0.9880 - val_loss: 3.2215 - val_accuracy: 0.5790\n",
            "Epoch 96/100\n",
            "157/157 [==============================] - 4s 24ms/step - loss: 0.0514 - accuracy: 0.9834 - val_loss: 3.2811 - val_accuracy: 0.5800\n",
            "Epoch 97/100\n",
            "157/157 [==============================] - 3s 20ms/step - loss: 0.0444 - accuracy: 0.9852 - val_loss: 3.3325 - val_accuracy: 0.5730\n",
            "Epoch 98/100\n",
            "157/157 [==============================] - 3s 21ms/step - loss: 0.0485 - accuracy: 0.9858 - val_loss: 3.5621 - val_accuracy: 0.5730\n",
            "Epoch 99/100\n",
            "157/157 [==============================] - 4s 25ms/step - loss: 0.0506 - accuracy: 0.9852 - val_loss: 3.4185 - val_accuracy: 0.5790\n",
            "Epoch 100/100\n",
            "157/157 [==============================] - 3s 21ms/step - loss: 0.0628 - accuracy: 0.9806 - val_loss: 3.4356 - val_accuracy: 0.5720\n"
          ]
        }
      ],
      "source": [
        "history = model.fit(x_train,y_train,batch_size = batch_size, epochs = epochs, validation_data = (x_test,y_test) )"
      ]
    },
    {
      "cell_type": "code",
      "execution_count": 45,
      "metadata": {
        "id": "SMRVmJVDogfT"
      },
      "outputs": [],
      "source": [
        "import matplotlib.pyplot as plt"
      ]
    },
    {
      "cell_type": "code",
      "execution_count": 46,
      "metadata": {
        "colab": {
          "base_uri": "https://localhost:8080/",
          "height": 282
        },
        "id": "62f680dFsnqX",
        "outputId": "275a188f-ef7d-4f7b-9f72-8875e488b91f"
      },
      "outputs": [
        {
          "data": {
            "text/plain": [
              "[<matplotlib.lines.Line2D at 0x7fc331203280>]"
            ]
          },
          "execution_count": 46,
          "metadata": {},
          "output_type": "execute_result"
        },
        {
          "data": {
            "image/png": "[encoded data removed]",
            "text/plain": [
              "<Figure size 432x288 with 1 Axes>"
            ]
          },
          "metadata": {
            "needs_background": "light"
          },
          "output_type": "display_data"
        }
      ],
      "source": [
        "plt.plot(history.history['loss'],c = 'b')\n",
        "plt.plot(history.history['val_loss'],c = 'r')"
      ]
    },
    {
      "cell_type": "code",
      "execution_count": 47,
      "metadata": {
        "id": "NZjFnxnJsv6M"
      },
      "outputs": [],
      "source": []
    },
    {
      "cell_type": "markdown",
      "metadata": {
        "id": "DSY9VFFstRq5"
      },
      "source": [
        "# Plotting images from cifar 10 along with the label"
      ]
    },
    {
      "cell_type": "code",
      "execution_count": 62,
      "metadata": {
        "id": "8OK95QQptZk-"
      },
      "outputs": [],
      "source": [
        "class_names = ['airplane','automobile', 'bird', 'cat','deer','dog','frog','horse','ship','truck']"
      ]
    },
    {
      "cell_type": "code",
      "execution_count": 107,
      "metadata": {
        "id": "Sw3sCQrntz1Q"
      },
      "outputs": [],
      "source": [
        "index = np.random.randint(len(X_train_full))\n",
        "image = X_train_full[index]\n",
        "label = y_train_full[index][0]\n",
        "\n",
        "#randomly picked one image from cifar10 dataset"
      ]
    },
    {
      "cell_type": "code",
      "execution_count": 108,
      "metadata": {
        "colab": {
          "base_uri": "https://localhost:8080/"
        },
        "id": "lwPo7Yq0uNrT",
        "outputId": "1b04c694-1abd-4d8c-bf04-3ff78206cf26"
      },
      "outputs": [
        {
          "data": {
            "text/plain": [
              "array([[[230, 239, 244],\n",
              "        [231, 240, 245],\n",
              "        [232, 241, 246],\n",
              "        ...,\n",
              "        [207, 225, 235],\n",
              "        [203, 223, 234],\n",
              "        [200, 220, 234]],\n",
              "\n",
              "       [[229, 238, 243],\n",
              "        [230, 239, 244],\n",
              "        [231, 240, 245],\n",
              "        ...,\n",
              "        [214, 229, 236],\n",
              "        [208, 225, 234],\n",
              "        [204, 222, 233]],\n",
              "\n",
              "       [[228, 237, 242],\n",
              "        [229, 238, 243],\n",
              "        [230, 239, 244],\n",
              "        ...,\n",
              "        [221, 232, 237],\n",
              "        [213, 227, 233],\n",
              "        [207, 223, 233]],\n",
              "\n",
              "       ...,\n",
              "\n",
              "       [[100, 145, 171],\n",
              "        [ 97, 143, 169],\n",
              "        [104, 150, 176],\n",
              "        ...,\n",
              "        [ 60, 114, 156],\n",
              "        [ 56, 109, 154],\n",
              "        [ 65, 117, 160]],\n",
              "\n",
              "       [[106, 149, 176],\n",
              "        [108, 152, 179],\n",
              "        [108, 151, 178],\n",
              "        ...,\n",
              "        [ 60, 122, 164],\n",
              "        [ 53, 114, 159],\n",
              "        [ 54, 114, 159]],\n",
              "\n",
              "       [[113, 154, 182],\n",
              "        [112, 153, 181],\n",
              "        [103, 144, 172],\n",
              "        ...,\n",
              "        [ 59, 126, 169],\n",
              "        [ 49, 116, 160],\n",
              "        [ 42, 108, 154]]], dtype=uint8)"
            ]
          },
          "execution_count": 108,
          "metadata": {},
          "output_type": "execute_result"
        }
      ],
      "source": [
        "image"
      ]
    },
    {
      "cell_type": "code",
      "execution_count": 109,
      "metadata": {
        "colab": {
          "base_uri": "https://localhost:8080/"
        },
        "id": "98AetrqduOhs",
        "outputId": "c5fee659-e097-41ec-d786-d432bb59215c"
      },
      "outputs": [
        {
          "data": {
            "text/plain": [
              "8"
            ]
          },
          "execution_count": 109,
          "metadata": {},
          "output_type": "execute_result"
        }
      ],
      "source": [
        "label"
      ]
    },
    {
      "cell_type": "code",
      "execution_count": 110,
      "metadata": {
        "colab": {
          "base_uri": "https://localhost:8080/",
          "height": 264
        },
        "id": "rzm1zjSOuPQ9",
        "outputId": "2383834b-4153-4b1d-bdc0-1bb5a82ba97f"
      },
      "outputs": [
        {
          "data": {
            "image/png": "[encoded data removed]",
            "text/plain": [
              "<Figure size 432x288 with 1 Axes>"
            ]
          },
          "metadata": {
            "needs_background": "light"
          },
          "output_type": "display_data"
        }
      ],
      "source": [
        "plt.imshow(image)\n",
        "plt.title(class_names[label])\n",
        "plt.axis('off')\n",
        "plt.show()"
      ]
    },
    {
      "cell_type": "code",
      "execution_count": 111,
      "metadata": {
        "colab": {
          "base_uri": "https://localhost:8080/"
        },
        "id": "U0c4Di6iudJR",
        "outputId": "4394e15e-0974-4ce7-c590-e2e15bc23a69"
      },
      "outputs": [
        {
          "data": {
            "text/plain": [
              "(32, 32, 3)"
            ]
          },
          "execution_count": 111,
          "metadata": {},
          "output_type": "execute_result"
        }
      ],
      "source": [
        "image.shape"
      ]
    },
    {
      "cell_type": "code",
      "execution_count": 112,
      "metadata": {
        "id": "LnhfxDMzurCR"
      },
      "outputs": [],
      "source": [
        "from tensorflow.keras.preprocessing.image import img_to_array,array_to_img\n",
        "from PIL import Image\n",
        "import numpy as np\n",
        "def resize_single_images(image): #inception model accepts data as (75 * 75) but our data is (32 * 32) therefore we are resizing the data\n",
        "  image = img_to_array(image)\n",
        "  image = Image.fromarray(image.astype('uint8'))\n",
        "  image = image.resize((75, 75))\n",
        "  image = img_to_array(image)\n",
        "  return np.array(image)"
      ]
    },
    {
      "cell_type": "code",
      "execution_count": 113,
      "metadata": {
        "id": "mPDKVJdWu86P"
      },
      "outputs": [],
      "source": [
        "image = resize_single_images(image)"
      ]
    },
    {
      "cell_type": "code",
      "execution_count": 114,
      "metadata": {
        "colab": {
          "base_uri": "https://localhost:8080/"
        },
        "id": "b-e6rLVLu_3c",
        "outputId": "887374f4-248b-4a45-8ef7-7621753a67d9"
      },
      "outputs": [
        {
          "data": {
            "text/plain": [
              "(75, 75, 3)"
            ]
          },
          "execution_count": 114,
          "metadata": {},
          "output_type": "execute_result"
        }
      ],
      "source": [
        "image.shape"
      ]
    },
    {
      "cell_type": "code",
      "execution_count": 115,
      "metadata": {
        "id": "lnQjMeANvIKo"
      },
      "outputs": [],
      "source": [
        "image = image.astype('float32') / 255\n"
      ]
    },
    {
      "cell_type": "code",
      "execution_count": 115,
      "metadata": {
        "id": "gP8MHYFjvSTO"
      },
      "outputs": [],
      "source": []
    },
    {
      "cell_type": "code",
      "execution_count": 116,
      "metadata": {
        "colab": {
          "base_uri": "https://localhost:8080/",
          "height": 264
        },
        "id": "tS-lUCeMvBH4",
        "outputId": "e831c594-5e4d-4b89-b5d4-3bb43c8380d2"
      },
      "outputs": [
        {
          "data": {
            "image/png": "[encoded data removed]",
            "text/plain": [
              "<Figure size 432x288 with 1 Axes>"
            ]
          },
          "metadata": {
            "needs_background": "light"
          },
          "output_type": "display_data"
        }
      ],
      "source": [
        "plt.imshow(image)\n",
        "plt.title(class_names[label])\n",
        "plt.axis('off')\n",
        "plt.show()"
      ]
    },
    {
      "cell_type": "code",
      "execution_count": 117,
      "metadata": {
        "colab": {
          "base_uri": "https://localhost:8080/"
        },
        "id": "VE_K87ZLvekH",
        "outputId": "16df555a-2188-40d1-83a3-54f27d9d7539"
      },
      "outputs": [
        {
          "data": {
            "text/plain": [
              "(75, 75, 3)"
            ]
          },
          "execution_count": 117,
          "metadata": {},
          "output_type": "execute_result"
        }
      ],
      "source": [
        "image.shape"
      ]
    },
    {
      "cell_type": "code",
      "execution_count": 118,
      "metadata": {
        "id": "Sh6xFgzqwL69"
      },
      "outputs": [],
      "source": [
        "image = image.reshape((1,75,75,3))"
      ]
    },
    {
      "cell_type": "code",
      "execution_count": 119,
      "metadata": {
        "colab": {
          "base_uri": "https://localhost:8080/"
        },
        "id": "2lqWFdeMzWcj",
        "outputId": "6aad1851-7feb-4b70-f436-11f7671e2bd5"
      },
      "outputs": [
        {
          "data": {
            "text/plain": [
              "(1, 75, 75, 3)"
            ]
          },
          "execution_count": 119,
          "metadata": {},
          "output_type": "execute_result"
        }
      ],
      "source": [
        "image.shape"
      ]
    },
    {
      "cell_type": "code",
      "execution_count": 120,
      "metadata": {
        "colab": {
          "base_uri": "https://localhost:8080/"
        },
        "id": "TeGK7Qx1vDAH",
        "outputId": "8a6ed009-89b9-4f7f-9ee7-e0d67978cff8"
      },
      "outputs": [
        {
          "name": "stdout",
          "output_type": "stream",
          "text": [
            "1/1 [==============================] - 0s 32ms/step\n"
          ]
        }
      ],
      "source": [
        "label = model.predict(image)"
      ]
    },
    {
      "cell_type": "code",
      "execution_count": 121,
      "metadata": {
        "colab": {
          "base_uri": "https://localhost:8080/"
        },
        "id": "IUWbULDMw9WY",
        "outputId": "8a57769f-b5cf-4de5-b971-2775c4afdec2"
      },
      "outputs": [
        {
          "data": {
            "text/plain": [
              "array([[1.20647954e-07, 6.96902301e-12, 1.37899225e-14, 1.71684593e-13,\n",
              "        2.76264984e-07, 1.13578669e-15, 2.74649606e-13, 2.17284093e-08,\n",
              "        9.99914646e-01, 8.48933705e-05]], dtype=float32)"
            ]
          },
          "execution_count": 121,
          "metadata": {},
          "output_type": "execute_result"
        }
      ],
      "source": [
        "label"
      ]
    },
    {
      "cell_type": "code",
      "execution_count": 122,
      "metadata": {
        "id": "XSIcG_rIwef2"
      },
      "outputs": [],
      "source": [
        "label_index = np.argmax(label)"
      ]
    },
    {
      "cell_type": "code",
      "execution_count": 123,
      "metadata": {
        "colab": {
          "base_uri": "https://localhost:8080/"
        },
        "id": "8fs8QQBFztlw",
        "outputId": "1dbc64dd-84cf-462c-e6e8-b564f82437d6"
      },
      "outputs": [
        {
          "data": {
            "text/plain": [
              "8"
            ]
          },
          "execution_count": 123,
          "metadata": {},
          "output_type": "execute_result"
        }
      ],
      "source": [
        "label_index"
      ]
    },
    {
      "cell_type": "code",
      "execution_count": 124,
      "metadata": {
        "colab": {
          "base_uri": "https://localhost:8080/",
          "height": 35
        },
        "id": "hhYR6XuZzyTj",
        "outputId": "ec40a4ce-23d4-4a4e-bef3-b063659342fc"
      },
      "outputs": [
        {
          "data": {
            "application/vnd.google.colaboratory.intrinsic+json": {
              "type": "string"
            },
            "text/plain": [
              "'ship'"
            ]
          },
          "execution_count": 124,
          "metadata": {},
          "output_type": "execute_result"
        }
      ],
      "source": [
        "class_names[label_index]"
      ]
    },
    {
      "cell_type": "code",
      "execution_count": null,
      "metadata": {
        "id": "-_nx-LOpz0yp"
      },
      "outputs": [],
      "source": []
    }
  ],
  "metadata": {
    "accelerator": "GPU",
    "colab": {
      "provenance": []
    },
    "gpuClass": "standard",
    "kernelspec": {
      "display_name": "Python 3",
      "name": "python3"
    },
    "language_info": {
      "name": "python"
    }
  },
  "nbformat": 4,
  "nbformat_minor": 0
}
